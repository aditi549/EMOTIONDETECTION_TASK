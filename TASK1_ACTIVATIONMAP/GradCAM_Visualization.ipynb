{
 "cells": [
  {
   "cell_type": "code",
   "execution_count": 4,
   "id": "b1a038f6-4946-4921-bd75-522f7f62efd5",
   "metadata": {},
   "outputs": [],
   "source": [
    "import tensorflow as tf\n",
    "import cv2\n",
    "import numpy as np\n",
    "import matplotlib.pyplot as plt\n"
   ]
  },
  {
   "cell_type": "code",
   "execution_count": 5,
   "id": "9cba028b-2f64-4905-9dcf-20e8950c2d45",
   "metadata": {},
   "outputs": [],
   "source": [
    "#load the model\n",
    "from tensorflow.keras.models import load_model\n",
    "model = load_model(\"emotion_model.h5.hdf5\", compile=False)"
   ]
  },
  {
   "cell_type": "code",
   "execution_count": 6,
   "id": "2f640f7f-c7ac-4079-b26f-c32d51ecd6cb",
   "metadata": {},
   "outputs": [],
   "source": [
    "# Load grayscale image\n",
    "img = cv2.imread(\"test_face.png\", cv2.IMREAD_GRAYSCALE)\n",
    "\n",
    "# Resize to (64, 64) to match model input\n",
    "img_resized = cv2.resize(img, (64, 64))\n",
    "\n",
    "# Normalize and expand dimensions\n",
    "img_array = img_resized.astype(\"float32\") / 255.0\n",
    "img_array = np.expand_dims(img_array, axis=-1)  # Shape: (64, 64, 1)\n",
    "img_array = np.expand_dims(img_array, axis=0)   # Shape: (1, 64, 64, 1)"
   ]
  },
  {
   "cell_type": "code",
   "execution_count": 7,
   "id": "752e9d1b-9d81-4a31-8580-412ffcc13fa9",
   "metadata": {},
   "outputs": [],
   "source": [
    "#Create grad model using the last conv layer\n",
    "grad_model = tf.keras.models.Model(\n",
    "    [model.inputs], \n",
    "    [model.get_layer(\"conv2d_7\").output, model.output]\n",
    "                    )"
   ]
  },
  {
   "cell_type": "code",
   "execution_count": 8,
   "id": "fe9a3162-faee-42c9-af02-779da1b5c991",
   "metadata": {},
   "outputs": [],
   "source": [
    "#get gradient and activation\n",
    "import tensorflow as tf\n",
    "\n",
    "def get_gradients_and_activations(model, last_conv_layer_name, img_tensor):\n",
    "    \"\"\"\n",
    "    Returns gradients and activations from a given convolutional layer.\n",
    "\n",
    "    Args:\n",
    "        model: A tf.keras.Model instance.\n",
    "        last_conv_layer_name: String name of the convolutional layer to target.\n",
    "        img_tensor: Preprocessed image tensor of shape (1, H, W, C).\n",
    "\n",
    "    Returns:\n",
    "        conv_output: Activation of the target conv layer.\n",
    "        grads: Gradient of target class output w.r.t. conv layer output.\n",
    "        pred_index: Predicted class index.\n",
    "        predictions: Model output probabilities/logits.\n",
    "    \"\"\"\n",
    "\n",
    "    # Build a model with outputs at the last conv layer and final prediction\n",
    "    grad_model = tf.keras.models.Model(\n",
    "        inputs=model.input,\n",
    "        outputs=[\n",
    "            model.get_layer(last_conv_layer_name).output,\n",
    "            model.output\n",
    "        ]\n",
    "    )\n",
    "\n",
    "    # Record gradients\n",
    "    with tf.GradientTape() as tape:\n",
    "        conv_outputs, predictions = grad_model(img_tensor)\n",
    "        pred_index = tf.argmax(predictions[0])\n",
    "        class_output = predictions[:, pred_index]\n",
    "\n",
    "    # Compute gradients of the class output with respect to conv layer\n",
    "    grads = tape.gradient(class_output, conv_outputs)\n",
    "\n",
    "    return conv_outputs[0], grads[0], pred_index.numpy(), predictions[0].numpy()\n"
   ]
  },
  {
   "cell_type": "code",
   "execution_count": 9,
   "id": "7d140c1c-89be-41de-8f4c-98b1eed8e143",
   "metadata": {},
   "outputs": [
    {
     "name": "stderr",
     "output_type": "stream",
     "text": [
      "C:\\Users\\agnih\\AppData\\Roaming\\Python\\Python312\\site-packages\\keras\\src\\models\\functional.py:241: UserWarning: The structure of `inputs` doesn't match the expected structure.\n",
      "Expected: ['input_1']\n",
      "Received: inputs=Tensor(shape=(1, 64, 64, 1))\n",
      "  warnings.warn(msg)\n"
     ]
    }
   ],
   "source": [
    "last_conv_layer_name = \"conv2d_7\"  # Your last conv layer\n",
    "\n",
    "# Get the gradients and activation\n",
    "conv_output, grads, pred_index, prediction = get_gradients_and_activations(\n",
    "    model, last_conv_layer_name, img_array\n",
    ")\n",
    "\n",
    "# Build the heatmap\n",
    "heatmap = tf.reduce_mean(grads, axis=-1)\n",
    "heatmap = tf.maximum(heatmap, 0) / tf.math.reduce_max(heatmap)\n",
    "heatmap = heatmap.numpy()\n",
    "heatmap = cv2.resize(heatmap, (img.shape[1], img.shape[0]))\n",
    "heatmap = np.uint8(255 * heatmap)\n",
    "heatmap = cv2.applyColorMap(heatmap, cv2.COLORMAP_JET)"
   ]
  },
  {
   "cell_type": "code",
   "execution_count": 10,
   "id": "e0c56ed4-060d-4812-91bc-26bb1058e020",
   "metadata": {},
   "outputs": [
    {
     "data": {
      "image/png": "[encoded data removed]",
      "text/plain": [
       "<Figure size 640x480 with 1 Axes>"
      ]
     },
     "metadata": {},
     "output_type": "display_data"
    }
   ],
   "source": [
    "\n",
    "# Ensure original image is in BGR (3 channels) to match heatmap\n",
    "img_color = cv2.cvtColor(img_resized, cv2.COLOR_GRAY2BGR)\n",
    "\n",
    "# Resize heatmap to match the original image if needed\n",
    "heatmap_resized = cv2.resize(heatmap, (img_color.shape[1], img_color.shape[0]))\n",
    "\n",
    "# Blend heatmap with the original image\n",
    "overlay_img = cv2.addWeighted(img_color, 0.6, heatmap_resized, 0.4, 0)\n",
    "# Show the result\n",
    "plt.imshow(cv2.cvtColor(overlay_img, cv2.COLOR_BGR2RGB))\n",
    "plt.axis('off')\n",
    "plt.title(f\"Predicted Class Index: {pred_index}\")\n",
    "plt.show()"
   ]
  },
  {
   "cell_type": "code",
   "execution_count": 11,
   "id": "0297832d-edf0-40e3-a7ed-971454b5ed3e",
   "metadata": {},
   "outputs": [
    {
     "ename": "error",
     "evalue": "OpenCV(4.12.0) D:\\a\\opencv-python\\opencv-python\\opencv\\modules\\core\\src\\arithm.cpp:665: error: (-209:Sizes of input arguments do not match) The operation is neither 'array op array' (where arrays have the same size and the same number of channels), nor 'array op scalar', nor 'scalar op array' in function 'cv::arithm_op'\n",
     "output_type": "error",
     "traceback": [
      "\u001b[1;31m---------------------------------------------------------------------------\u001b[0m",
      "\u001b[1;31merror\u001b[0m                                     Traceback (most recent call last)",
      "Cell \u001b[1;32mIn[11], line 16\u001b[0m\n\u001b[0;32m     13\u001b[0m     img \u001b[38;5;241m=\u001b[39m np\u001b[38;5;241m.\u001b[39muint8(img)\n\u001b[0;32m     15\u001b[0m \u001b[38;5;66;03m# Create superimposed image\u001b[39;00m\n\u001b[1;32m---> 16\u001b[0m superimposed_img \u001b[38;5;241m=\u001b[39m \u001b[43mcv2\u001b[49m\u001b[38;5;241;43m.\u001b[39;49m\u001b[43maddWeighted\u001b[49m\u001b[43m(\u001b[49m\u001b[43mheatmap\u001b[49m\u001b[43m,\u001b[49m\u001b[43m \u001b[49m\u001b[38;5;241;43m0.4\u001b[39;49m\u001b[43m,\u001b[49m\u001b[43m \u001b[49m\u001b[43mimg\u001b[49m\u001b[43m,\u001b[49m\u001b[43m \u001b[49m\u001b[38;5;241;43m0.6\u001b[39;49m\u001b[43m,\u001b[49m\u001b[43m \u001b[49m\u001b[38;5;241;43m0\u001b[39;49m\u001b[43m)\u001b[49m\n\u001b[0;32m     17\u001b[0m cv2\u001b[38;5;241m.\u001b[39mimwrite(\u001b[38;5;124m\"\u001b[39m\u001b[38;5;124mgradcam_output.png\u001b[39m\u001b[38;5;124m\"\u001b[39m,superimposed_img)\n",
      "\u001b[1;31merror\u001b[0m: OpenCV(4.12.0) D:\\a\\opencv-python\\opencv-python\\opencv\\modules\\core\\src\\arithm.cpp:665: error: (-209:Sizes of input arguments do not match) The operation is neither 'array op array' (where arrays have the same size and the same number of channels), nor 'array op scalar', nor 'scalar op array' in function 'cv::arithm_op'\n"
     ]
    }
   ],
   "source": [
    "# Resize the heatmap to match original image size\n",
    "import cv2\n",
    "heatmap = cv2.resize(heatmap, (img.shape[1], img.shape[0]))\n",
    "\n",
    "# Convert heatmap to 0–255 and apply color map\n",
    "heatmap = np.uint8(255 * heatmap)\n",
    "heatmap = cv2.applyColorMap(heatmap, cv2.COLORMAP_JET)\n",
    "\n",
    "# Ensure original image is in 0–255 uint8 format\n",
    "if img.max() <= 1.0:\n",
    "    img = np.uint8(255 * img)\n",
    "else:\n",
    "    img = np.uint8(img)\n",
    "\n",
    "# Create superimposed image\n",
    "superimposed_img = cv2.addWeighted(heatmap, 0.4, img, 0.6, 0)\n",
    "cv2.imwrite(\"gradcam_output.png\",superimposed_img)"
   ]
  },
  {
   "cell_type": "code",
   "execution_count": null,
   "id": "eccbf591-b359-4d97-934a-f27b20530a95",
   "metadata": {},
   "outputs": [],
   "source": []
  }
 ],
 "metadata": {
  "kernelspec": {
   "display_name": "Python 3 (ipykernel)",
   "language": "python",
   "name": "python3"
  },
  "language_info": {
   "codemirror_mode": {
    "name": "ipython",
    "version": 3
   },
   "file_extension": ".py",
   "mimetype": "text/x-python",
   "name": "python",
   "nbconvert_exporter": "python",
   "pygments_lexer": "ipython3",
   "version": "3.12.5"
  }
 },
 "nbformat": 4,
 "nbformat_minor": 5
}
