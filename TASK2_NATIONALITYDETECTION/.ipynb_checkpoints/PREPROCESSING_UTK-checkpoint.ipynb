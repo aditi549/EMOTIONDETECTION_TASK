{
 "cells": [
  {
   "cell_type": "code",
   "execution_count": 1,
   "id": "20ec0f4a-7b29-42dc-85a3-26ad4d86c481",
   "metadata": {},
   "outputs": [],
   "source": [
    "import pandas as pd\n",
    "import numpy as np\n",
    "import cv2\n",
    "import os\n",
    "import matplotlib.pyplot as plt"
   ]
  },
  {
   "cell_type": "code",
   "execution_count": 3,
   "id": "a11542d1-bf69-4a1c-a4b4-38afa12e0d50",
   "metadata": {},
   "outputs": [
    {
     "name": "stdout",
     "output_type": "stream",
     "text": [
      "                                            filepath  age  gender dress_color  \\\n",
      "0  utkface_400/utkface_400_subset/UTKFace/12_1_0_...   12       1         red   \n",
      "1  utkface_400/utkface_400_subset/UTKFace/10_0_4_...   10       0        blue   \n",
      "2  utkface_400/utkface_400_subset/UTKFace/12_1_0_...   12       1       green   \n",
      "3  utkface_400/utkface_400_subset/UTKFace/12_1_3_...   12       1      orange   \n",
      "4  utkface_400/utkface_400_subset/UTKFace/10_0_0_...   10       0        pink   \n",
      "\n",
      "   race nationality  \n",
      "0     0    American  \n",
      "1     1     African  \n",
      "2     2     Chinese  \n",
      "3     3      Indian  \n",
      "4     4        Arab  \n",
      "Index(['filepath', 'age', 'gender', 'dress_color', 'race', 'nationality'], dtype='object')\n"
     ]
    }
   ],
   "source": [
    "# Load the CSV\n",
    "df_utk = pd.read_csv(\"utkface_400.csv\")\n",
    "# Show first five rows\n",
    "print(df_utk.head())\n",
    "print(df_utk.columns)"
   ]
  },
  {
   "cell_type": "code",
   "execution_count": 4,
   "id": "746f73b9-8192-4ca2-82ca-099cb2701380",
   "metadata": {},
   "outputs": [],
   "source": [
    "from sklearn.preprocessing import LabelEncoder\n",
    "from tensorflow.keras.utils import to_categorical"
   ]
  },
  {
   "cell_type": "code",
   "execution_count": 6,
   "id": "5fa0816c-2930-4b7c-94ca-79e16c9cccdc",
   "metadata": {},
   "outputs": [
    {
     "name": "stdout",
     "output_type": "stream",
     "text": [
      "Image data shape: (400, 48, 48, 3)\n"
     ]
    }
   ],
   "source": [
    "#  Define preprocessing code\n",
    "# Set image size\n",
    "IMG_SIZE = 48\n",
    "\n",
    "# Lists to store data\n",
    "X_utk = []\n",
    "gender_labels = []\n",
    "age_labels = []\n",
    "race_labels = []\n",
    "nationality_labels = []\n",
    "dress_labels = []\n",
    "\n",
    "for index, row in df_utk.iterrows():\n",
    "    img_path = row['filepath']\n",
    "    \n",
    "    # Read and resize image\n",
    "    img = cv2.imread(img_path)\n",
    "    if img is not None:\n",
    "        img = cv2.resize(img, (IMG_SIZE, IMG_SIZE))\n",
    "        img = img / 255.0  # Normalize\n",
    "        X_utk.append(img)\n",
    "        \n",
    "        # Labels\n",
    "        gender_labels.append(row['gender'])\n",
    "        age_labels.append(row['age'])\n",
    "        race_labels.append(row['race'])\n",
    "        nationality_labels.append(row['nationality'])\n",
    "        dress_labels.append(row['dress_color'])\n",
    "\n",
    "X_utk = np.array(X_utk)\n",
    "print(\"Image data shape:\", X_utk.shape)"
   ]
  },
  {
   "cell_type": "code",
   "execution_count": 10,
   "id": "82b51501-f37a-4c74-be4d-87a864dc59ab",
   "metadata": {},
   "outputs": [],
   "source": [
    "# Encode labels\n",
    "from sklearn.preprocessing import LabelEncoder\n",
    "from tensorflow.keras.utils import to_categorical\n",
    "\n",
    "# Gender\n",
    "le_gender = LabelEncoder()\n",
    "y_gender = le_gender.fit_transform(gender_labels)\n",
    "y_gender = to_categorical(y_gender)\n",
    "\n",
    "# Age (optional: can bin ages later)\n",
    "le_age = LabelEncoder()\n",
    "y_age = le_age.fit_transform(age_labels)\n",
    "y_age = to_categorical(y_age)\n",
    "\n",
    "# Race\n",
    "le_race = LabelEncoder()\n",
    "y_race = le_race.fit_transform(race_labels)\n",
    "y_race = to_categorical(y_race)\n",
    "\n",
    "# Nationality\n",
    "le_nat = LabelEncoder()\n",
    "y_nationality = le_nat.fit_transform(nationality_labels)\n",
    "y_nationality = to_categorical(y_nationality)\n",
    "\n",
    "# Dress Color\n",
    "le_dress = LabelEncoder()\n",
    "y_dress = le_dress.fit_transform(dress_labels)\n",
    "y_dress = to_categorical(y_dress)"
   ]
  },
  {
   "cell_type": "code",
   "execution_count": 9,
   "id": "c08b23c5-9439-4c86-89fc-5ccaeed30f1f",
   "metadata": {},
   "outputs": [
    {
     "name": "stdout",
     "output_type": "stream",
     "text": [
      "Gender classes: [0 1]\n",
      "Age classes: [ 10  11  12  13 100 101 103 105 110 111 115 116]\n",
      "Race classes: [0 1 2 3 4]\n",
      "Nationality classes: ['African' 'American' 'Arab' 'Chinese' 'Indian']\n",
      "Dress color classes: ['black' 'blue' 'green' 'nan' 'orange' 'pink' 'red' 'yellow']\n",
      "y_gender shape: (400, 2)\n",
      "y_age shape: (400, 12)\n"
     ]
    }
   ],
   "source": [
    "print(\"Gender classes:\", le_gender.classes_)\n",
    "print(\"Age classes:\", le_age.classes_)\n",
    "print(\"Race classes:\", le_race.classes_)\n",
    "print(\"Nationality classes:\", le_nat.classes_)\n",
    "print(\"Dress color classes:\", le_dress.classes_)\n",
    "\n",
    "print(\"y_gender shape:\", y_gender.shape)\n",
    "print(\"y_age shape:\", y_age.shape)"
   ]
  },
  {
   "cell_type": "code",
   "execution_count": 24,
   "id": "3ffdf67d-30c7-4ab0-ac2e-5701950621a0",
   "metadata": {},
   "outputs": [
    {
     "name": "stdout",
     "output_type": "stream",
     "text": [
      "Train shape: (320, 48, 48, 3) (320, 2)\n",
      "Test shape: (80, 48, 48, 3) (80, 2)\n"
     ]
    }
   ],
   "source": [
    "# Train test split code\n",
    "from sklearn.model_selection import train_test_split\n",
    "\n",
    "# X_utk: image data\n",
    "# y_gender: labels\n",
    "\n",
    "X_train, X_test, y_train, y_test = train_test_split(\n",
    "    X_utk, y_gender, test_size=0.2, random_state=42, stratify=y_gender)\n",
    "\n",
    "print(\"Train shape:\", X_train.shape, y_train.shape)\n",
    "print(\"Test shape:\", X_test.shape, y_test.shape)"
   ]
  },
  {
   "cell_type": "code",
   "execution_count": 25,
   "id": "72b5cc4d-ba6a-40d4-b909-f69639bc1287",
   "metadata": {},
   "outputs": [],
   "source": [
    "# Define age bins and labels\n",
    "bins = [0, 12, 19, 35, 60, 100]\n",
    "labels = ['child', 'teenager', 'young_adult', 'adult', 'senior']\n",
    "\n",
    "# Convert numeric ages into age groups\n",
    "age_groups = pd.cut(age_labels, bins=bins, labels=labels, include_lowest=True)\n",
    "\n",
    "# Encode the age groups\n",
    "from sklearn.preprocessing import LabelEncoder\n",
    "from tensorflow.keras.utils import to_categorical\n",
    "\n",
    "le_age_group = LabelEncoder()\n",
    "y_age_group = le_age_group.fit_transform(age_groups)\n",
    "y_age_group = to_categorical(y_age_group)"
   ]
  },
  {
   "cell_type": "code",
   "execution_count": 26,
   "id": "878d2ec7-3305-4e28-9727-50f56e1d2dad",
   "metadata": {},
   "outputs": [
    {
     "name": "stdout",
     "output_type": "stream",
     "text": [
      "Train shape: (320, 48, 48, 3) (320, 4)\n",
      "Train shape: (320, 48, 48, 3) (320, 4)\n"
     ]
    }
   ],
   "source": [
    "from sklearn.model_selection import train_test_split\n",
    "\n",
    "X_train, X_test, y_train, y_test = train_test_split(\n",
    "    X_utk, y_age_group, test_size=0.2, random_state=42, stratify=y_age_group)\n",
    "\n",
    "print(\"Train shape:\", X_train.shape, y_train.shape)\n",
    "print(\"Train shape:\",  X_train.shape, y_train.shape)"
   ]
  },
  {
   "cell_type": "code",
   "execution_count": 27,
   "id": "fe0d8cb1-1bcb-48be-8fac-ef15ff5fe11b",
   "metadata": {},
   "outputs": [
    {
     "name": "stdout",
     "output_type": "stream",
     "text": [
      "Train shape: (320, 48, 48, 3) (320, 5)\n",
      "Test shape: (80, 48, 48, 3) (80, 5)\n"
     ]
    }
   ],
   "source": [
    "from sklearn.model_selection import train_test_split\n",
    "\n",
    "# X_utk: image data\n",
    "# y_race: labels\n",
    "\n",
    "X_train, X_test, y_train, y_test = train_test_split(\n",
    "    X_utk, y_race, test_size=0.2, random_state=42, stratify=y_race)\n",
    "\n",
    "print(\"Train shape:\", X_train.shape, y_train.shape)\n",
    "print(\"Test shape:\", X_test.shape, y_test.shape)"
   ]
  },
  {
   "cell_type": "code",
   "execution_count": 28,
   "id": "1bf58e32-8a17-43ca-b5c7-1824461992e9",
   "metadata": {},
   "outputs": [
    {
     "name": "stdout",
     "output_type": "stream",
     "text": [
      "Train shape: (320, 48, 48, 3) (320, 5)\n",
      "Test shape: (80, 48, 48, 3) (80, 5)\n"
     ]
    }
   ],
   "source": [
    "from sklearn.model_selection import train_test_split\n",
    "\n",
    "# X_utk: image data\n",
    "# y_nationality: labels\n",
    "\n",
    "X_train, X_test, y_train, y_test = train_test_split(\n",
    "    X_utk, y_nationality, test_size=0.2, random_state=42, stratify=y_nationality)\n",
    "\n",
    "print(\"Train shape:\", X_train.shape, y_train.shape)\n",
    "print(\"Test shape:\", X_test.shape, y_test.shape)"
   ]
  }
 ],
 "metadata": {
  "kernelspec": {
   "display_name": "Python 3 (ipykernel)",
   "language": "python",
   "name": "python3"
  },
  "language_info": {
   "codemirror_mode": {
    "name": "ipython",
    "version": 3
   },
   "file_extension": ".py",
   "mimetype": "text/x-python",
   "name": "python",
   "nbconvert_exporter": "python",
   "pygments_lexer": "ipython3",
   "version": "3.12.5"
  }
 },
 "nbformat": 4,
 "nbformat_minor": 5
}
