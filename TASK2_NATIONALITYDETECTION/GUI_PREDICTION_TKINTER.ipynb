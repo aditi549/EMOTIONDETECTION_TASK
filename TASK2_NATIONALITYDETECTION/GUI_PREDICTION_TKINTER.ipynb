{
 "cells": [
  {
   "cell_type": "code",
   "execution_count": null,
   "id": "f4f480f6-7656-44cd-a184-6817dc3ac943",
   "metadata": {},
   "outputs": [
    {
     "name": "stdout",
     "output_type": "stream",
     "text": [
      "\u001b[1m1/1\u001b[0m \u001b[32m━━━━━━━━━━━━━━━━━━━━\u001b[0m\u001b[37m\u001b[0m \u001b[1m0s\u001b[0m 70ms/step\n",
      "\u001b[1m1/1\u001b[0m \u001b[32m━━━━━━━━━━━━━━━━━━━━\u001b[0m\u001b[37m\u001b[0m \u001b[1m0s\u001b[0m 97ms/step\n",
      "\u001b[1m1/1\u001b[0m \u001b[32m━━━━━━━━━━━━━━━━━━━━\u001b[0m\u001b[37m\u001b[0m \u001b[1m0s\u001b[0m 33ms/step\n",
      "\u001b[1m1/1\u001b[0m \u001b[32m━━━━━━━━━━━━━━━━━━━━\u001b[0m\u001b[37m\u001b[0m \u001b[1m0s\u001b[0m 35ms/step\n"
     ]
    }
   ],
   "source": [
    "import tkinter as tk\n",
    "from tkinter import filedialog\n",
    "from PIL import Image, ImageTk\n",
    "import numpy as np\n",
    "import tensorflow as tf\n",
    "from tensorflow.keras.models import load_model\n",
    "import random\n",
    "\n",
    "# ✅ Load Models\n",
    "utk_model = load_model(\"my_cnn_model_utk.keras\")\n",
    "fer_model = load_model(\"my_cnn_mode_fer.keras\")\n",
    "\n",
    "# ✅ Classes\n",
    "emotion_classes = ['angry', 'disgust', 'fear', 'happy', 'sad', 'surprise', 'neutral']\n",
    "nationality_classes = ['American', 'African', 'Chinese', 'Indian', 'Arab', 'Other']\n",
    "dress_color_classes = ['red', 'blue', 'green', 'orange', 'pink', 'yellow', 'black']\n",
    "\n",
    "# ✅ Preprocess image\n",
    "def preprocess_image(img_path):\n",
    "    img = Image.open(img_path).resize((48, 48)).convert(\"RGB\")\n",
    "    img_array = np.expand_dims(np.array(img) / 255.0, axis=0)\n",
    "    return img_array\n",
    "\n",
    "# ✅ Predict Function with Rules\n",
    "def predict_image():\n",
    "    file_path = filedialog.askopenfilename()\n",
    "    if not file_path:\n",
    "        return\n",
    "\n",
    "    # Display selected image in GUI\n",
    "    img = Image.open(file_path).resize((200, 200))\n",
    "    img_tk = ImageTk.PhotoImage(img)\n",
    "    img_label.config(image=img_tk)\n",
    "    img_label.image = img_tk\n",
    "\n",
    "    img_array = preprocess_image(file_path)\n",
    "\n",
    "    # 🔹 Nationality Prediction (UTK model)\n",
    "    utk_pred = utk_model.predict(img_array)\n",
    "    nationality = nationality_classes[np.argmax(utk_pred)]\n",
    "\n",
    "    # 🔹 Emotion Prediction (FER model)\n",
    "    fer_pred = fer_model.predict(img_array)\n",
    "    emotion = emotion_classes[np.argmax(fer_pred)]\n",
    "\n",
    "    # 🔹 Dummy Age (You can replace with your UTK age output)\n",
    "    age = random.randint(10, 60)\n",
    "\n",
    "    # 🔹 Dummy Dress Color (You can replace with your trained color model)\n",
    "    dress_color = random.choice(dress_color_classes)\n",
    "\n",
    "    # ✅ Apply Rules for Display\n",
    "    if nationality == 'Indian':\n",
    "        output_text = f\"Nationality: {nationality}\\nAge: {age}\\nEmotion: {emotion}\\nDress Color: {dress_color}\"\n",
    "    elif nationality == 'American':\n",
    "        output_text = f\"Nationality: {nationality}\\nAge: {age}\\nEmotion: {emotion}\"\n",
    "    elif nationality == 'African':\n",
    "        output_text = f\"Nationality: {nationality}\\nEmotion: {emotion}\\nDress Color: {dress_color}\"\n",
    "    else:\n",
    "        output_text = f\"Nationality: {nationality}\\nEmotion: {emotion}\"\n",
    "\n",
    "    # ✅ Display Results\n",
    "    result_label.config(text=output_text)\n",
    "\n",
    "# ✅ GUI Window\n",
    "root = tk.Tk()\n",
    "root.title(\"Image Classifier - UTKFace + FER2013\")\n",
    "root.geometry(\"600x500\")\n",
    "\n",
    "btn = tk.Button(root, text=\"Choose Image & Predict\", command=predict_image)\n",
    "btn.pack(pady=10)\n",
    "\n",
    "img_label = tk.Label(root)\n",
    "img_label.pack()\n",
    "\n",
    "result_label = tk.Label(root, text=\"\", font=(\"Arial\", 14))\n",
    "result_label.pack(pady=10)\n",
    "\n",
    "root.mainloop()"
   ]
  },
  {
   "cell_type": "code",
   "execution_count": 29,
   "id": "381652cb-76af-4bbc-834f-491ae888f732",
   "metadata": {},
   "outputs": [
    {
     "name": "stdout",
     "output_type": "stream",
     "text": [
      "\u001b[1m1/1\u001b[0m \u001b[32m━━━━━━━━━━━━━━━━━━━━\u001b[0m\u001b[37m\u001b[0m \u001b[1m0s\u001b[0m 184ms/step\n",
      "UTK Model Raw Output: [[0.0466623  0.33143678 0.28082964 0.11657606 0.22449525]]\n",
      "Shape: (1, 5)\n"
     ]
    }
   ],
   "source": [
    "img = Image.open(r\"C:\\Users\\agnih\\OneDrive\\Desktop\\PROJECT_TASK2\\fer2013\\test\\angry\\PrivateTest_10131363.jpg\").resize((48,48)).convert(\"RGB\")\n",
    "img_array = np.expand_dims(np.array(img)/255.0, axis=0)\n",
    "\n",
    "pred = model_utk.predict(img_array)\n",
    "print(\"UTK Model Raw Output:\", pred)\n",
    "print(\"Shape:\", pred.shape)"
   ]
  }
 ],
 "metadata": {
  "kernelspec": {
   "display_name": "Python 3 (ipykernel)",
   "language": "python",
   "name": "python3"
  },
  "language_info": {
   "codemirror_mode": {
    "name": "ipython",
    "version": 3
   },
   "file_extension": ".py",
   "mimetype": "text/x-python",
   "name": "python",
   "nbconvert_exporter": "python",
   "pygments_lexer": "ipython3",
   "version": "3.12.5"
  }
 },
 "nbformat": 4,
 "nbformat_minor": 5
}
