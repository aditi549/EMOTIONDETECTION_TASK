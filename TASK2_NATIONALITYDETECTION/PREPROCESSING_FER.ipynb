{
 "cells": [
  {
   "cell_type": "code",
   "execution_count": 2,
   "id": "3181f809-4c2d-446b-a052-0b96c96c9e3b",
   "metadata": {},
   "outputs": [],
   "source": [
    "import pandas as pd\n",
    "import numpy as np\n",
    "import cv2\n",
    "from sklearn.model_selection import train_test_split\n",
    "from sklearn.preprocessing import LabelEncoder\n",
    "from tensorflow.keras.utils import to_categorical"
   ]
  },
  {
   "cell_type": "code",
   "execution_count": 3,
   "id": "0609154c-b9a1-4278-a93f-741ae5dfd23f",
   "metadata": {},
   "outputs": [
    {
     "name": "stdout",
     "output_type": "stream",
     "text": [
      "['sad' 'neutral' 'fear' 'surprise' 'angry' 'happy' 'disgust']\n"
     ]
    }
   ],
   "source": [
    "# Load the dataset\n",
    "df = pd.read_csv(\"fer2013_images.csv\")\n",
    "print(df['label'].unique())"
   ]
  },
  {
   "cell_type": "code",
   "execution_count": 4,
   "id": "0251010c-a4a6-463f-95a0-ab9cae2e0b32",
   "metadata": {},
   "outputs": [
    {
     "name": "stdout",
     "output_type": "stream",
     "text": [
      "Emotion label map: {'angry': np.int64(0), 'disgust': np.int64(1), 'fear': np.int64(2), 'happy': np.int64(3), 'neutral': np.int64(4), 'sad': np.int64(5), 'surprise': np.int64(6)}\n"
     ]
    }
   ],
   "source": [
    "# Encode emotion names to numbers\n",
    "label_encoder = LabelEncoder()\n",
    "df['label_encoded'] = label_encoder.fit_transform(df['label'])\n",
    "\n",
    "# Optional: print mapping\n",
    "label_map = dict(zip(label_encoder.classes_, label_encoder.transform(label_encoder.classes_)))\n",
    "print(\"Emotion label map:\", label_map)"
   ]
  },
  {
   "cell_type": "code",
   "execution_count": 5,
   "id": "c7c846f2-d524-437d-815c-6c1cfef5c875",
   "metadata": {},
   "outputs": [
    {
     "name": "stdout",
     "output_type": "stream",
     "text": [
      "True\n"
     ]
    }
   ],
   "source": [
    "base_path = \"fer2013\"\n",
    "import os\n",
    "print(os.path.exists(base_path))"
   ]
  },
  {
   "cell_type": "code",
   "execution_count": 9,
   "id": "8f00e594-cca0-4804-b68a-43ea044c08ee",
   "metadata": {},
   "outputs": [
    {
     "name": "stdout",
     "output_type": "stream",
     "text": [
      "✅ Loaded 200 images (testing mode)\n",
      "X shape: (200, 48, 48, 3)\n",
      "y shape: (200,)\n"
     ]
    }
   ],
   "source": [
    "# Load and preprocess all images\n",
    "import os\n",
    "import cv2\n",
    "import numpy as np\n",
    "\n",
    "base_path = \"fer2013\"\n",
    "IMG_SIZE = 48\n",
    "X, y = [], []\n",
    "\n",
    "LIMIT = 200  # ✅ Load only first 200 images for testing\n",
    "\n",
    "for idx, row in df.iterrows():\n",
    "    relative_path = row['filepath'].replace(\"fer2013_dataset/\", \"\")\n",
    "    img_path = os.path.join(base_path, relative_path)\n",
    "    label = row['label']\n",
    "\n",
    "    img = cv2.imread(img_path)\n",
    "    if img is None:\n",
    "        print(\"Missing:\", img_path)\n",
    "        continue\n",
    "\n",
    "    img = cv2.resize(img, (IMG_SIZE, IMG_SIZE))\n",
    "    img = img / 255.0\n",
    "    X.append(img)\n",
    "    y.append(label)\n",
    "\n",
    "    if len(X) >= LIMIT:\n",
    "        print(f\"✅ Loaded {LIMIT} images (testing mode)\")\n",
    "        break\n",
    "\n",
    "X = np.array(X)\n",
    "y = np.array(y)\n",
    "\n",
    "print(\"X shape:\", X.shape)\n",
    "print(\"y shape:\", y.shape)"
   ]
  },
  {
   "cell_type": "code",
   "execution_count": 12,
   "id": "313b4106-a3ae-41a6-b7eb-d2b38a35096c",
   "metadata": {},
   "outputs": [
    {
     "name": "stdout",
     "output_type": "stream",
     "text": [
      "Encoded y shape: (200, 1)\n",
      "Classes: ['sad']\n"
     ]
    }
   ],
   "source": [
    "# One - hot encode the labels\n",
    "from sklearn.preprocessing import LabelEncoder\n",
    "from tensorflow.keras.utils import to_categorical\n",
    "\n",
    "# ⿡ Encode string labels to integers\n",
    "label_encoder = LabelEncoder()\n",
    "y_encoded = label_encoder.fit_transform(y)   # 'sad' -> 4, 'happy' -> 3, etc.\n",
    "\n",
    "# ⿢ Convert to one-hot\n",
    "num_classes = len(label_encoder.classes_)\n",
    "y_onehot = to_categorical(y_encoded, num_classes=num_classes)\n",
    "\n",
    "print(\"Encoded y shape:\", y_onehot.shape)\n",
    "print(\"Classes:\", label_encoder.classes_)"
   ]
  },
  {
   "cell_type": "code",
   "execution_count": 13,
   "id": "010834ea-f7b2-49af-8639-1b62aa79e457",
   "metadata": {},
   "outputs": [],
   "source": [
    "# Train test split\n",
    "X_train, X_test, y_train, y_test = train_test_split(X, y, test_size=0.2, random_state=42)"
   ]
  },
  {
   "cell_type": "code",
   "execution_count": 14,
   "id": "497c84a0-06e4-4e0a-994f-1f4e01634312",
   "metadata": {},
   "outputs": [],
   "source": [
    "import numpy as np\n",
    "\n",
    "# Save the arrays\n",
    "np.save('X_train.npy', X_train)\n",
    "np.save('X_test.npy', X_test)\n",
    "np.save('y_train.npy', y_train)\n",
    "np.save('y_test.npy', y_test)"
   ]
  }
 ],
 "metadata": {
  "kernelspec": {
   "display_name": "Python 3 (ipykernel)",
   "language": "python",
   "name": "python3"
  },
  "language_info": {
   "codemirror_mode": {
    "name": "ipython",
    "version": 3
   },
   "file_extension": ".py",
   "mimetype": "text/x-python",
   "name": "python",
   "nbconvert_exporter": "python",
   "pygments_lexer": "ipython3",
   "version": "3.12.5"
  }
 },
 "nbformat": 4,
 "nbformat_minor": 5
}
