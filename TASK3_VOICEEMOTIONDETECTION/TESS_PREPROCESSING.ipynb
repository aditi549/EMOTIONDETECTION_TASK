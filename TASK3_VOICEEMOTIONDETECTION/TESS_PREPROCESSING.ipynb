{
 "cells": [
  {
   "cell_type": "code",
   "execution_count": 1,
   "id": "764e407e-5fed-45ed-a292-717e53e5d7e4",
   "metadata": {},
   "outputs": [],
   "source": [
    "import os\n",
    "import numpy as np\n",
    "import librosa\n",
    "from sklearn.model_selection import train_test_split\n",
    "from sklearn.preprocessing import LabelEncoder\n",
    "import tensorflow as tf\n",
    "from tensorflow.keras.models import Sequential\n",
    "from tensorflow.keras.layers import Conv2D, MaxPooling2D, Flatten, Dense, Dropout, BatchNormalization"
   ]
  },
  {
   "cell_type": "code",
   "execution_count": 2,
   "id": "8367cbd5-97de-47f8-bdf1-39924074a48b",
   "metadata": {},
   "outputs": [],
   "source": [
    "# Path to cleaned TESS dataset\n",
    "cleaned_path = r\"C:\\Users\\agnin\\OneDrive\\Desktop\\PROJECT_TASK3\\TESS_CLEANED\"\n",
    "\n",
    "# Audio parameters\n",
    "SAMPLE_RATE = 22050\n",
    "MFCC = 40\n",
    "MAX_PAD_LEN = 200"
   ]
  },
  {
   "cell_type": "code",
   "execution_count": 3,
   "id": "5242d7c2-90ef-469b-ab6a-90ac8af29245",
   "metadata": {},
   "outputs": [],
   "source": [
    "# Define feature extraction function\n",
    "def extract_features(file_path):\n",
    "    audio, sr = librosa.load(file_path, sr=SAMPLE_RATE)\n",
    "    mfcc = librosa.feature.mfcc(y=audio, sr=sr, n_mfcc=MFCC)\n",
    "\n",
    "    # Pad or Trim MFCC to fixed length\n",
    "    if mfcc.shape[1] < MAX_PAD_LEN:\n",
    "        pad_width = MAX_PAD_LEN - mfcc.shape[1]\n",
    "        mfcc = np.pad(mfcc, pad_width=((0, 0), (0, pad_width)), mode='constant')\n",
    "    else:\n",
    "        mfcc = mfcc[:, :MAX_PAD_LEN]\n",
    "\n",
    "    return mfcc.astype(np.float32)"
   ]
  },
  {
   "cell_type": "code",
   "execution_count": 12,
   "id": "8728d655-b25e-4dfd-bf00-a3b765919040",
   "metadata": {},
   "outputs": [
    {
     "name": "stdout",
     "output_type": "stream",
     "text": [
      "✅ Path found: C:\\Users\\agnih\\OneDrive\\Desktop\\PROJECT_TASK3\\TESS_CLEANED\n",
      "✅ Feature extraction done!\n",
      "X shape (before reshape): (60, 40, 200)\n",
      "y shape: (60,)\n"
     ]
    }
   ],
   "source": [
    "# Loop through all files and extract features\n",
    "# ✅ Correct path to your dataset\n",
    "cleaned_path = r\"C:\\Users\\agnih\\OneDrive\\Desktop\\PROJECT_TASK3\\TESS_CLEANED\"\n",
    "import os\n",
    "if not os.path.exists(cleaned_path):\n",
    "    raise FileNotFoundError(f\"❌ Path not found: {cleaned_path}\")\n",
    "else:\n",
    "    print(\"✅ Path found:\", cleaned_path)\n",
    "\n",
    "# Now continue feature extraction\n",
    "X = []\n",
    "y = []\n",
    "\n",
    "for label in os.listdir(cleaned_path):\n",
    "    folder_path = os.path.join(cleaned_path, label)\n",
    "    if os.path.isdir(folder_path):\n",
    "        for file in os.listdir(folder_path):\n",
    "            file_path = os.path.join(folder_path, file)\n",
    "            features = extract_features(file_path)\n",
    "            X.append(features)\n",
    "            y.append(label)\n",
    "\n",
    "X = np.array(X)\n",
    "y = np.array(y)\n",
    "\n",
    "print(\"✅ Feature extraction done!\")\n",
    "print(\"X shape (before reshape):\", X.shape)\n",
    "print(\"y shape:\", y.shape)"
   ]
  },
  {
   "cell_type": "code",
   "execution_count": 14,
   "id": "09bbeea9-28f3-489a-8a00-9660930bb859",
   "metadata": {},
   "outputs": [
    {
     "name": "stdout",
     "output_type": "stream",
     "text": [
      "Encoded classes: ['angry' 'disgust' 'fear' 'happy' 'neutral' 'sad']\n"
     ]
    }
   ],
   "source": [
    "# Encode the labels\n",
    "le = LabelEncoder()\n",
    "y = le.fit_transform(y)\n",
    "print(\"Encoded classes:\", le.classes_)"
   ]
  },
  {
   "cell_type": "code",
   "execution_count": 16,
   "id": "817d3bae-e680-45f1-a787-3d2ca85c2807",
   "metadata": {},
   "outputs": [
    {
     "name": "stdout",
     "output_type": "stream",
     "text": [
      "✅ Reshaped for CNN!\n",
      "X_train: (48, 40, 200, 1)\n",
      "X_test: (12, 40, 200, 1)\n"
     ]
    }
   ],
   "source": [
    "# Train-Test split\n",
    "# Add channel dimension for CNN\n",
    "X = X[..., np.newaxis]  # Shape: (n_samples, 40, 200, 1)\n",
    "\n",
    "# Split data\n",
    "X_train, X_test, y_train, y_test = train_test_split(\n",
    "    X, y, test_size=0.2, random_state=42, stratify=y\n",
    ")\n",
    "\n",
    "print(\"✅ Reshaped for CNN!\")\n",
    "print(\"X_train:\", X_train.shape)\n",
    "print(\"X_test:\", X_test.shape)"
   ]
  },
  {
   "cell_type": "code",
   "execution_count": 17,
   "id": "47b11c42-5378-4cfe-8e7d-16174ae6fc6d",
   "metadata": {},
   "outputs": [
    {
     "name": "stdout",
     "output_type": "stream",
     "text": [
      "✅ Data saved as .npy files!\n"
     ]
    }
   ],
   "source": [
    "np.save(\"X_train.npy\", X_train)\n",
    "np.save(\"X_test.npy\", X_test)\n",
    "np.save(\"y_train.npy\", y_train)\n",
    "np.save(\"y_test.npy\", y_test)\n",
    "\n",
    "print(\"✅ Data saved as .npy files!\")"
   ]
  }
 ],
 "metadata": {
  "kernelspec": {
   "display_name": "Python 3 (ipykernel)",
   "language": "python",
   "name": "python3"
  },
  "language_info": {
   "codemirror_mode": {
    "name": "ipython",
    "version": 3
   },
   "file_extension": ".py",
   "mimetype": "text/x-python",
   "name": "python",
   "nbconvert_exporter": "python",
   "pygments_lexer": "ipython3",
   "version": "3.12.5"
  }
 },
 "nbformat": 4,
 "nbformat_minor": 5
}
