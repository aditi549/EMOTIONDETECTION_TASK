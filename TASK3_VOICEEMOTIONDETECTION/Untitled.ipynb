{
 "cells": [
  {
   "cell_type": "code",
   "execution_count": 3,
   "id": "f7fbd10d-2ed5-41cc-8a77-f6d3c2206d44",
   "metadata": {},
   "outputs": [
    {
     "name": "stdout",
     "output_type": "stream",
     "text": [
      "\n",
      "📂 Folder: OAF_angry\n",
      "    OAF_back_angry.wav\n",
      "    OAF_bar_angry.wav\n",
      "    OAF_base_angry.wav\n",
      "    OAF_bath_angry.wav\n",
      "    OAF_bean_angry.wav\n",
      "   Total files: 5\n",
      "\n",
      "📂 Folder: OAF_disgust\n",
      "    OAF_back_disgust.wav\n",
      "    OAF_bar_disgust.wav\n",
      "    OAF_base_disgust.wav\n",
      "    OAF_bath_disgust.wav\n",
      "    OAF_bean_disgust.wav\n",
      "   Total files: 5\n",
      "\n",
      "📂 Folder: OAF_Fear\n",
      "    OAF_back_fear.wav\n",
      "    OAF_bar_fear.wav\n",
      "    OAF_base_fear.wav\n",
      "    OAF_bath_fear.wav\n",
      "    OAF_bean_fear.wav\n",
      "   Total files: 5\n",
      "\n",
      "📂 Folder: OAF_happy\n",
      "    OAF_back_happy.wav\n",
      "    OAF_bar_happy.wav\n",
      "    OAF_base_happy.wav\n",
      "    OAF_bath_happy.wav\n",
      "    OAF_bean_happy.wav\n",
      "   Total files: 5\n",
      "\n",
      "📂 Folder: OAF_neutral\n",
      "    OAF_back_neutral.wav\n",
      "    OAF_bar_neutral.wav\n",
      "    OAF_base_neutral.wav\n",
      "    OAF_bath_neutral.wav\n",
      "    OAF_bean_neutral.wav\n",
      "   Total files: 5\n",
      "\n",
      "📂 Folder: OAF_Pleasant_surprise\n",
      "    OAF_back_ps.wav\n",
      "    OAF_bar_ps.wav\n",
      "    OAF_base_ps.wav\n",
      "    OAF_bath_ps.wav\n",
      "    OAF_bean_ps.wav\n",
      "   Total files: 5\n",
      "\n",
      "📂 Folder: OAF_Sad\n",
      "    OAF_back_sad.wav\n",
      "    OAF_bar_sad.wav\n",
      "    OAF_base_sad.wav\n",
      "    OAF_bath_sad.wav\n",
      "    OAF_bean_sad.wav\n",
      "   Total files: 5\n",
      "\n",
      "📂 Folder: YAF_angry\n",
      "    YAF_back_angry.wav\n",
      "    YAF_bar_angry.wav\n",
      "    YAF_base_angry.wav\n",
      "    YAF_bath_angry.wav\n",
      "    YAF_bean_angry.wav\n",
      "   Total files: 5\n",
      "\n",
      "📂 Folder: YAF_disgust\n",
      "    YAF_back_disgust.wav\n",
      "    YAF_bar_disgust.wav\n",
      "    YAF_base_disgust.wav\n",
      "    YAF_bath_disgust.wav\n",
      "    YAF_bean_disgust.wav\n",
      "   Total files: 5\n",
      "\n",
      "📂 Folder: YAF_fear\n",
      "    YAF_back_fear.wav\n",
      "    YAF_bar_fear.wav\n",
      "    YAF_base_fear.wav\n",
      "    YAF_bath_fear.wav\n",
      "    YAF_bean_fear.wav\n",
      "   Total files: 5\n",
      "\n",
      "📂 Folder: YAF_happy\n",
      "    YAF_back_happy.wav\n",
      "    YAF_bar_happy.wav\n",
      "    YAF_base_happy.wav\n",
      "    YAF_bath_happy.wav\n",
      "    YAF_bean_happy.wav\n",
      "   Total files: 5\n",
      "\n",
      "📂 Folder: YAF_neutral\n",
      "    YAF_back_neutral.wav\n",
      "    YAF_bar_neutral.wav\n",
      "    YAF_base_neutral.wav\n",
      "    YAF_bath_neutral.wav\n",
      "    YAF_bean_neutral.wav\n",
      "   Total files: 5\n",
      "\n",
      "📂 Folder: YAF_pleasant_surprised\n",
      "    YAF_back_ps.wav\n",
      "    YAF_bar_ps.wav\n",
      "    YAF_base_ps.wav\n",
      "    YAF_bath_ps.wav\n",
      "    YAF_bean_ps.wav\n",
      "   Total files: 5\n",
      "\n",
      "📂 Folder: YAF_sad\n",
      "    YAF_back_sad.wav\n",
      "    YAF_bar_sad.wav\n",
      "    YAF_base_sad.wav\n",
      "    YAF_bath_sad.wav\n",
      "    YAF_bean_sad.wav\n",
      "   Total files: 5\n"
     ]
    }
   ],
   "source": [
    "import os\n",
    "\n",
    "dataset_path = \"dataset\"  # Change to your dataset folder\n",
    "\n",
    "for root, dirs, files in os.walk(r\"C:\\Users\\agnih\\OneDrive\\Desktop\\PROJECT_TASK3\\TESS_SAMPLE\"):\n",
    "    if files:\n",
    "        print(f\"\\n📂 Folder: {os.path.basename(root)}\")\n",
    "        for file in sorted(files)[:5]:  # show first 5 files per folder\n",
    "            print(\"   \", file)\n",
    "        print(f\"   Total files: {len(files)}\")"
   ]
  },
  {
   "cell_type": "code",
   "execution_count": 5,
   "id": "9d4199de-ee33-4c7e-acd8-4e9726e832ab",
   "metadata": {},
   "outputs": [
    {
     "name": "stdout",
     "output_type": "stream",
     "text": [
      "\n",
      "🎯 Dataset Summary:\n",
      "OAF_angry: 5 files\n",
      "OAF_disgust: 5 files\n",
      "OAF_Fear: 5 files\n",
      "OAF_happy: 5 files\n",
      "OAF_neutral: 5 files\n",
      "OAF_Pleasant_surprise: 5 files\n",
      "OAF_Sad: 5 files\n",
      "YAF_angry: 5 files\n",
      "YAF_disgust: 5 files\n",
      "YAF_fear: 5 files\n",
      "YAF_happy: 5 files\n",
      "YAF_neutral: 5 files\n",
      "YAF_pleasant_surprised: 5 files\n",
      "YAF_sad: 5 files\n"
     ]
    }
   ],
   "source": [
    "import glob\n",
    "\n",
    "labels = []\n",
    "for folder in os.listdir(r\"C:\\Users\\agnih\\OneDrive\\Desktop\\PROJECT_TASK3\\TESS_SAMPLE\"):\n",
    "    folder_path = os.path.join(r\"C:\\Users\\agnih\\OneDrive\\Desktop\\PROJECT_TASK3\\TESS_SAMPLE\", folder)\n",
    "    if os.path.isdir(folder_path):\n",
    "        count = len(glob.glob(f\"{folder_path}/*.wav\"))\n",
    "        labels.append((folder, count))\n",
    "\n",
    "print(\"\\n🎯 Dataset Summary:\")\n",
    "for label, count in labels:\n",
    "    print(f\"{label}: {count} files\")"
   ]
  },
  {
   "cell_type": "code",
   "execution_count": 9,
   "id": "c0818ea6-62d7-4b5e-b7a9-a76115b2b0b5",
   "metadata": {},
   "outputs": [
    {
     "name": "stdout",
     "output_type": "stream",
     "text": [
      "\n",
      " Detected Labels Order: ['OAF_Fear', 'OAF_Pleasant_surprise', 'OAF_Sad', 'OAF_angry', 'OAF_disgust', 'OAF_happy', 'OAF_neutral', 'YAF_angry', 'YAF_disgust', 'YAF_fear', 'YAF_happy', 'YAF_neutral', 'YAF_pleasant_surprised', 'YAF_sad']\n"
     ]
    }
   ],
   "source": [
    "labels = sorted(os.listdir(r\"C:\\Users\\agnih\\OneDrive\\Desktop\\PROJECT_TASK3\\TESS_SAMPLE\"))\n",
    "print(\"\\n Detected Labels Order:\", labels)"
   ]
  },
  {
   "cell_type": "code",
   "execution_count": 10,
   "id": "1994cc43-804a-42ac-ab98-d5da521c22eb",
   "metadata": {},
   "outputs": [
    {
     "name": "stdout",
     "output_type": "stream",
     "text": [
      "✅ Dataset reorganized into 7 emotion folders.\n"
     ]
    }
   ],
   "source": [
    "import os\n",
    "import shutil\n",
    "\n",
    "source_dir = r\"C:\\Users\\agnih\\OneDrive\\Desktop\\PROJECT_TASK3\\TESS_SAMPLE\"\n",
    "target_dir = r\"C:\\Users\\agnih\\OneDrive\\Desktop\\PROJECT_TASK3\\TESS_CLEANED\"\n",
    "\n",
    "if not os.path.exists(target_dir):\n",
    "    os.makedirs(target_dir)\n",
    "\n",
    "# Mapping keywords to emotion folders\n",
    "emotion_map = {\n",
    "    \"angry\": \"angry\",\n",
    "    \"disgust\": \"disgust\",\n",
    "    \"fear\": \"fear\",\n",
    "    \"happy\": \"happy\",\n",
    "    \"neutral\": \"neutral\",\n",
    "    \"sad\": \"sad\",\n",
    "    \"Pleasant_surprise\": \"pleasant_surprise\",\n",
    "    \"pleasant_surprised\": \"pleasant_surprise\"  # YAF typo fix\n",
    "}\n",
    "\n",
    "for folder in os.listdir(source_dir):\n",
    "    folder_path = os.path.join(source_dir, folder)\n",
    "    if os.path.isdir(folder_path):\n",
    "        for file in os.listdir(folder_path):\n",
    "            for key, emotion in emotion_map.items():\n",
    "                if key in file:\n",
    "                    dest_folder = os.path.join(target_dir, emotion)\n",
    "                    os.makedirs(dest_folder, exist_ok=True)\n",
    "                    shutil.copy(os.path.join(folder_path, file), dest_folder)\n",
    "                    break\n",
    "\n",
    "print(\"✅ Dataset reorganized into 7 emotion folders.\")"
   ]
  },
  {
   "cell_type": "code",
   "execution_count": 13,
   "id": "3a2418af-f135-4141-837e-51b3f408a63a",
   "metadata": {},
   "outputs": [
    {
     "name": "stdout",
     "output_type": "stream",
     "text": [
      "📂 angry: 10 files\n",
      "  Sample: ['OAF_back_angry.wav', 'OAF_bar_angry.wav', 'OAF_base_angry.wav']\n",
      "📂 disgust: 10 files\n",
      "  Sample: ['OAF_back_disgust.wav', 'OAF_bar_disgust.wav', 'OAF_base_disgust.wav']\n",
      "📂 fear: 10 files\n",
      "  Sample: ['OAF_back_fear.wav', 'OAF_bar_fear.wav', 'OAF_base_fear.wav']\n",
      "📂 happy: 10 files\n",
      "  Sample: ['OAF_back_happy.wav', 'OAF_bar_happy.wav', 'OAF_base_happy.wav']\n",
      "📂 neutral: 10 files\n",
      "  Sample: ['OAF_back_neutral.wav', 'OAF_bar_neutral.wav', 'OAF_base_neutral.wav']\n",
      "📂 sad: 10 files\n",
      "  Sample: ['OAF_back_sad.wav', 'OAF_bar_sad.wav', 'OAF_base_sad.wav']\n"
     ]
    }
   ],
   "source": [
    "import os\n",
    "\n",
    "cleaned_path = r\"C:\\Users\\agnih\\OneDrive\\Desktop\\PROJECT_TASK3\\TESS_CLEANED\"\n",
    "\n",
    "for folder in sorted(os.listdir(cleaned_path)):\n",
    "    folder_path = os.path.join(cleaned_path, folder)\n",
    "    if os.path.isdir(folder_path):\n",
    "        files = os.listdir(folder_path)\n",
    "        print(f\"📂 {folder}: {len(files)} files\")\n",
    "        print(\"  Sample:\", files[:3])"
   ]
  }
 ],
 "metadata": {
  "kernelspec": {
   "display_name": "Python 3 (ipykernel)",
   "language": "python",
   "name": "python3"
  },
  "language_info": {
   "codemirror_mode": {
    "name": "ipython",
    "version": 3
   },
   "file_extension": ".py",
   "mimetype": "text/x-python",
   "name": "python",
   "nbconvert_exporter": "python",
   "pygments_lexer": "ipython3",
   "version": "3.12.5"
  }
 },
 "nbformat": 4,
 "nbformat_minor": 5
}
